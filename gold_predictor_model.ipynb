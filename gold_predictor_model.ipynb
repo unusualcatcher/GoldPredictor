{
 "cells": [
  {
   "cell_type": "code",
   "execution_count": 1,
   "id": "45ce53f2-fba7-42c0-bb3a-de69da0da039",
   "metadata": {},
   "outputs": [],
   "source": [
    "import pickle\n",
    "import pandas as pd\n",
    "import numpy as np\n",
    "import matplotlib.pyplot as plt\n",
    "from sklearn.ensemble import RandomForestRegressor\n",
    "from sklearn.metrics import mean_squared_error\n",
    "from sklearn.preprocessing import StandardScaler\n",
    "from sklearn.model_selection import train_test_split\n",
    "%matplotlib inline"
   ]
  },
  {
   "cell_type": "code",
   "execution_count": 2,
   "id": "aada8040-1aae-4a7e-a87a-9f5c18d6cb29",
   "metadata": {},
   "outputs": [
    {
     "name": "stdout",
     "output_type": "stream",
     "text": [
      "Date         5/16/2018\n",
      "SPX        2725.780029\n",
      "GLD           122.5438\n",
      "USO            14.4058\n",
      "SLV            15.4542\n",
      "EUR/USD       1.182033\n",
      "Name: 2289, dtype: object\n"
     ]
    },
    {
     "data": {
      "text/plain": [
       "(2290, 6)"
      ]
     },
     "execution_count": 2,
     "metadata": {},
     "output_type": "execute_result"
    }
   ],
   "source": [
    "df = pd.read_csv('gld_price_data.csv')\n",
    "print(df.iloc[-1])\n",
    "df.head()\n",
    "df.dropna()\n",
    "df.shape"
   ]
  },
  {
   "cell_type": "code",
   "execution_count": 3,
   "id": "23fc247e-9bc3-4cde-bc4a-9f68ace9fe5d",
   "metadata": {},
   "outputs": [
    {
     "data": {
      "text/plain": [
       "(2290, 6)"
      ]
     },
     "execution_count": 3,
     "metadata": {},
     "output_type": "execute_result"
    }
   ],
   "source": [
    "df.shape"
   ]
  },
  {
   "cell_type": "code",
   "execution_count": 4,
   "id": "8bde091a-f160-4fda-bbce-8da52997f1e3",
   "metadata": {},
   "outputs": [
    {
     "name": "stdout",
     "output_type": "stream",
     "text": [
      "5/16/2018\n"
     ]
    }
   ],
   "source": [
    "X_date = df['Date']\n",
    "print(X_date.iloc[-1])\n",
    "X_noDate = df[['SPX','USO','SLV','EUR/USD']]"
   ]
  },
  {
   "cell_type": "code",
   "execution_count": 5,
   "id": "6aac456c-84b7-4bc3-b395-4906ae615962",
   "metadata": {},
   "outputs": [],
   "source": [
    "Y = df['GLD']"
   ]
  },
  {
   "cell_type": "code",
   "execution_count": 6,
   "id": "d770d423-787b-4733-9730-3ce894158458",
   "metadata": {},
   "outputs": [
    {
     "name": "stdout",
     "output_type": "stream",
     "text": [
      "5/16/2018\n",
      "(2290, 3)\n"
     ]
    }
   ],
   "source": [
    "print(X_date.iloc[-1])\n",
    "X_date = pd.to_datetime(X_date)\n",
    "dates = pd.DataFrame()\n",
    "dates['year'] = X_date.dt.year\n",
    "dates['month'] = X_date.dt.month\n",
    "dates['day'] = X_date.dt.day\n",
    "dates = dates.to_numpy()\n",
    "print(dates.shape)"
   ]
  },
  {
   "cell_type": "code",
   "execution_count": 7,
   "id": "488d5e3f-ba15-410e-8a4f-ce7daae9e3ad",
   "metadata": {},
   "outputs": [
    {
     "data": {
      "text/plain": [
       "0        84.860001\n",
       "1        85.570000\n",
       "2        85.129997\n",
       "3        84.769997\n",
       "4        86.779999\n",
       "           ...    \n",
       "2285    124.589996\n",
       "2286    124.330002\n",
       "2287    125.180000\n",
       "2288    124.489998\n",
       "2289    122.543800\n",
       "Name: GLD, Length: 2290, dtype: float64"
      ]
     },
     "execution_count": 7,
     "metadata": {},
     "output_type": "execute_result"
    }
   ],
   "source": [
    "Y"
   ]
  },
  {
   "cell_type": "code",
   "execution_count": 8,
   "id": "df00ac26-9782-4c16-a89b-e7e07f269d23",
   "metadata": {},
   "outputs": [
    {
     "name": "stdout",
     "output_type": "stream",
     "text": [
      "(2290, 7)\n",
      "(2290, 4)\n",
      "(2290,)\n",
      "(2290,)\n"
     ]
    }
   ],
   "source": [
    "\n",
    "X = np.zeros((2290, 7))\n",
    "print(X.shape)\n",
    "print(X_noDate.shape)\n",
    "print(X_date.shape)\n",
    "print(Y.shape)"
   ]
  },
  {
   "cell_type": "code",
   "execution_count": 9,
   "id": "5dee5971-9881-4db8-85be-a7dab162fb63",
   "metadata": {},
   "outputs": [],
   "source": [
    "scaler = StandardScaler()"
   ]
  },
  {
   "cell_type": "code",
   "execution_count": 10,
   "id": "3a4a8497-0396-4394-8365-b47ea71f07d0",
   "metadata": {},
   "outputs": [
    {
     "name": "stdout",
     "output_type": "stream",
     "text": [
      "[[-0.39914541  2.38880956 -0.6917197   1.42975293]\n",
      " [-0.39914541  2.38368652 -0.67691224  1.45103511]\n",
      " [-0.46760428  2.32938091 -0.69355301  1.45864621]\n",
      " ...\n",
      " [ 2.05926403 -0.89307824 -0.61274655 -0.69876145]\n",
      " [ 2.0728668  -0.89461519 -0.63813078 -0.68838269]\n",
      " [ 2.06448555 -0.89329341 -0.65305106 -0.77266741]]\n"
     ]
    }
   ],
   "source": [
    "scaler.fit(X_noDate)\n",
    "X_noDate_transformed = scaler.transform(X_noDate)\n",
    "print(X_noDate_transformed)"
   ]
  },
  {
   "cell_type": "code",
   "execution_count": 11,
   "id": "3e2413b7-ee27-4578-a800-9cbf82b31e36",
   "metadata": {},
   "outputs": [],
   "source": [
    "rows, cols = X.shape"
   ]
  },
  {
   "cell_type": "code",
   "execution_count": 12,
   "id": "67e41af7-22a5-4b30-8cd7-ede33b28bae1",
   "metadata": {},
   "outputs": [
    {
     "name": "stdout",
     "output_type": "stream",
     "text": [
      "[[ 2.00800000e+03  1.00000000e+00  2.00000000e+00 ...  2.38880956e+00\n",
      "  -6.91719702e-01  1.42975293e+00]\n",
      " [ 2.00800000e+03  1.00000000e+00  3.00000000e+00 ...  2.38368652e+00\n",
      "  -6.76912236e-01  1.45103511e+00]\n",
      " [ 2.00800000e+03  1.00000000e+00  4.00000000e+00 ...  2.32938091e+00\n",
      "  -6.93553007e-01  1.45864621e+00]\n",
      " ...\n",
      " [ 2.01800000e+03  5.00000000e+00  1.00000000e+01 ... -8.93078242e-01\n",
      "  -6.12746551e-01 -6.98761454e-01]\n",
      " [ 2.01800000e+03  5.00000000e+00  1.40000000e+01 ... -8.94615186e-01\n",
      "  -6.38130778e-01 -6.88382686e-01]\n",
      " [ 2.01800000e+03  5.00000000e+00  1.60000000e+01 ... -8.93293414e-01\n",
      "  -6.53051063e-01 -7.72667412e-01]]\n"
     ]
    }
   ],
   "source": [
    "for i in range(rows):\n",
    "    for j in range(cols):\n",
    "        if j ==0 or j == 1 or j == 2:\n",
    "            X[i][j] = dates[i][j]\n",
    "        else:\n",
    "            X[i][j] = X_noDate_transformed[i][j-3]\n",
    "print(X)"
   ]
  },
  {
   "cell_type": "code",
   "execution_count": 13,
   "id": "73090670-d335-41c3-89f1-b7c3170f7214",
   "metadata": {},
   "outputs": [],
   "source": [
    "X_train, X_test, y_train, y_test = train_test_split(\n",
    "    X, Y, test_size=0.2, random_state=3)"
   ]
  },
  {
   "cell_type": "code",
   "execution_count": 14,
   "id": "794b81ac-9e68-4930-8982-6feb465d5f73",
   "metadata": {},
   "outputs": [],
   "source": [
    "depth_accuracy_test = []\n",
    "samples_accuracy_test = []\n",
    "depth_accuracy_train = []\n",
    "samples_accuracy_train = []\n",
    "for sample in (2,3,4,5,10,20,50,100):\n",
    "    model = RandomForestRegressor(min_samples_split=sample, random_state=0)\n",
    "    model.fit(X_train, y_train)\n",
    "    train_predictions = model.predict(X_train)\n",
    "    accuracy = mean_squared_error(train_predictions, y_train)\n",
    "    samples_accuracy_train.append(accuracy)\n",
    "    test_predictions = model.predict(X_test)\n",
    "    accuracy = mean_squared_error(test_predictions, y_test)\n",
    "    samples_accuracy_test.append(accuracy)\n",
    "for depth in (2,3,4,5,10,20,50,100):\n",
    "    model = RandomForestRegressor(max_depth=depth, random_state=0)\n",
    "    model.fit(X_train, y_train)\n",
    "    train_predictions = model.predict(X_train)\n",
    "    accuracy = mean_squared_error(train_predictions, y_train)\n",
    "    depth_accuracy_train.append(accuracy)\n",
    "    test_predictions = model.predict(X_test)\n",
    "    accuracy = mean_squared_error(test_predictions, y_test)\n",
    "    depth_accuracy_test.append(accuracy)"
   ]
  },
  {
   "cell_type": "code",
   "execution_count": 15,
   "id": "6ca9561b-3d69-41bc-b1e5-a870fab2835e",
   "metadata": {},
   "outputs": [
    {
     "data": {
      "image/png": "[encoded data removed]",
      "text/plain": [
       "<Figure size 640x480 with 2 Axes>"
      ]
     },
     "metadata": {},
     "output_type": "display_data"
    }
   ],
   "source": [
    "plt.subplot(1,2,1)\n",
    "plt.plot((2,3,4,5,10,20,50,100), samples_accuracy_train, marker='o')\n",
    "plt.xlabel('Samples (train)')\n",
    "plt.ylabel('Mean Squared Error')\n",
    "\n",
    "plt.subplot(1,2,2)\n",
    "plt.plot((2,3,4,5,10,20,50,100), samples_accuracy_test, marker='o')\n",
    "plt.xlabel('Samples (test)')\n",
    "\n",
    "plt.show()"
   ]
  },
  {
   "cell_type": "code",
   "execution_count": 16,
   "id": "d29a2bea-9ee4-4003-ad51-65b3507deee6",
   "metadata": {},
   "outputs": [
    {
     "data": {
      "image/png": "[encoded data removed]",
      "text/plain": [
       "<Figure size 640x480 with 2 Axes>"
      ]
     },
     "metadata": {},
     "output_type": "display_data"
    }
   ],
   "source": [
    "plt.subplot(1,2,1)\n",
    "plt.plot((2,3,4,5,10,20,50,100), depth_accuracy_train, marker='o')\n",
    "plt.xlabel('Depth (train)')\n",
    "plt.ylabel('Mean Squared Error')\n",
    "\n",
    "plt.subplot(1,2,2)\n",
    "plt.plot((2,3,4,5,10,20,50,100), depth_accuracy_test, marker='o')\n",
    "plt.xlabel('Depth (test)')\n",
    "\n",
    "plt.show()"
   ]
  },
  {
   "cell_type": "code",
   "execution_count": 17,
   "id": "933897a5-a882-42dc-9c19-dd57f7ac1e21",
   "metadata": {},
   "outputs": [
    {
     "name": "stdout",
     "output_type": "stream",
     "text": [
      "3.1862216188484456\n"
     ]
    }
   ],
   "source": [
    "model = RandomForestRegressor(min_samples_split=2, max_depth=10, random_state=0)\n",
    "model.fit(X_train, y_train)\n",
    "predictions = model.predict(X_test)\n",
    "print(mean_squared_error(predictions, y_test))"
   ]
  },
  {
   "cell_type": "code",
   "execution_count": 19,
   "id": "e9381c20-b33b-45e0-b711-d9248b47f02e",
   "metadata": {},
   "outputs": [],
   "source": [
    "with open('model.pkl', 'wb') as file:\n",
    "    pickle.dump(model, file)\n",
    "with open('scaler.pkl','wb') as s:\n",
    "    pickle.dump(scaler, s)"
   ]
  },
  {
   "cell_type": "code",
   "execution_count": null,
   "id": "ff97f87a-29c3-4b15-b6c4-015eca504510",
   "metadata": {},
   "outputs": [],
   "source": []
  }
 ],
 "metadata": {
  "kernelspec": {
   "display_name": "Python 3 (ipykernel)",
   "language": "python",
   "name": "python3"
  },
  "language_info": {
   "codemirror_mode": {
    "name": "ipython",
    "version": 3
   },
   "file_extension": ".py",
   "mimetype": "text/x-python",
   "name": "python",
   "nbconvert_exporter": "python",
   "pygments_lexer": "ipython3",
   "version": "3.12.2"
  }
 },
 "nbformat": 4,
 "nbformat_minor": 5
}
